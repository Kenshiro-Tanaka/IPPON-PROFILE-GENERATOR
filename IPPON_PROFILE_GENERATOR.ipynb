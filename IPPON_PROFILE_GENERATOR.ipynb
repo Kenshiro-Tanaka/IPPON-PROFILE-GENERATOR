{
  "nbformat": 4,
  "nbformat_minor": 0,
  "metadata": {
    "colab": {
      "provenance": []
    },
    "kernelspec": {
      "name": "python3",
      "display_name": "Python 3"
    },
    "language_info": {
      "name": "python"
    }
  },
  "cells": [
    {
      "cell_type": "code",
      "source": [
        "pip install rembg"
      ],
      "metadata": {
        "colab": {
          "base_uri": "https://localhost:8080/"
        },
        "id": "nUyHCWXcez3x",
        "outputId": "e0e68e48-cc26-4a00-b9ae-4d6faf980e86"
      },
      "execution_count": 1,
      "outputs": [
        {
          "output_type": "stream",
          "name": "stdout",
          "text": [
            "Collecting rembg\n",
            "  Downloading rembg-2.0.53-py3-none-any.whl (32 kB)\n",
            "Requirement already satisfied: jsonschema in /usr/local/lib/python3.10/dist-packages (from rembg) (4.19.2)\n",
            "Requirement already satisfied: numpy in /usr/local/lib/python3.10/dist-packages (from rembg) (1.23.5)\n",
            "Collecting onnxruntime (from rembg)\n",
            "  Downloading onnxruntime-1.16.3-cp310-cp310-manylinux_2_17_x86_64.manylinux2014_x86_64.whl (6.4 MB)\n",
            "\u001b[2K     \u001b[90m━━━━━━━━━━━━━━━━━━━━━━━━━━━━━━━━━━━━━━━━\u001b[0m \u001b[32m6.4/6.4 MB\u001b[0m \u001b[31m16.2 MB/s\u001b[0m eta \u001b[36m0:00:00\u001b[0m\n",
            "\u001b[?25hRequirement already satisfied: opencv-python-headless in /usr/local/lib/python3.10/dist-packages (from rembg) (4.9.0.80)\n",
            "Requirement already satisfied: pillow in /usr/local/lib/python3.10/dist-packages (from rembg) (9.4.0)\n",
            "Requirement already satisfied: pooch in /usr/local/lib/python3.10/dist-packages (from rembg) (1.8.0)\n",
            "Collecting pymatting (from rembg)\n",
            "  Downloading PyMatting-1.1.12-py3-none-any.whl (52 kB)\n",
            "\u001b[2K     \u001b[90m━━━━━━━━━━━━━━━━━━━━━━━━━━━━━━━━━━━━━━━━\u001b[0m \u001b[32m53.0/53.0 kB\u001b[0m \u001b[31m5.6 MB/s\u001b[0m eta \u001b[36m0:00:00\u001b[0m\n",
            "\u001b[?25hRequirement already satisfied: scikit-image in /usr/local/lib/python3.10/dist-packages (from rembg) (0.19.3)\n",
            "Requirement already satisfied: scipy in /usr/local/lib/python3.10/dist-packages (from rembg) (1.11.4)\n",
            "Requirement already satisfied: tqdm in /usr/local/lib/python3.10/dist-packages (from rembg) (4.66.1)\n",
            "Requirement already satisfied: attrs>=22.2.0 in /usr/local/lib/python3.10/dist-packages (from jsonschema->rembg) (23.2.0)\n",
            "Requirement already satisfied: jsonschema-specifications>=2023.03.6 in /usr/local/lib/python3.10/dist-packages (from jsonschema->rembg) (2023.12.1)\n",
            "Requirement already satisfied: referencing>=0.28.4 in /usr/local/lib/python3.10/dist-packages (from jsonschema->rembg) (0.32.1)\n",
            "Requirement already satisfied: rpds-py>=0.7.1 in /usr/local/lib/python3.10/dist-packages (from jsonschema->rembg) (0.17.1)\n",
            "Collecting coloredlogs (from onnxruntime->rembg)\n",
            "  Downloading coloredlogs-15.0.1-py2.py3-none-any.whl (46 kB)\n",
            "\u001b[2K     \u001b[90m━━━━━━━━━━━━━━━━━━━━━━━━━━━━━━━━━━━━━━━━\u001b[0m \u001b[32m46.0/46.0 kB\u001b[0m \u001b[31m3.1 MB/s\u001b[0m eta \u001b[36m0:00:00\u001b[0m\n",
            "\u001b[?25hRequirement already satisfied: flatbuffers in /usr/local/lib/python3.10/dist-packages (from onnxruntime->rembg) (23.5.26)\n",
            "Requirement already satisfied: packaging in /usr/local/lib/python3.10/dist-packages (from onnxruntime->rembg) (23.2)\n",
            "Requirement already satisfied: protobuf in /usr/local/lib/python3.10/dist-packages (from onnxruntime->rembg) (3.20.3)\n",
            "Requirement already satisfied: sympy in /usr/local/lib/python3.10/dist-packages (from onnxruntime->rembg) (1.12)\n",
            "Requirement already satisfied: platformdirs>=2.5.0 in /usr/local/lib/python3.10/dist-packages (from pooch->rembg) (4.1.0)\n",
            "Requirement already satisfied: requests>=2.19.0 in /usr/local/lib/python3.10/dist-packages (from pooch->rembg) (2.31.0)\n",
            "Requirement already satisfied: numba!=0.49.0 in /usr/local/lib/python3.10/dist-packages (from pymatting->rembg) (0.58.1)\n",
            "Requirement already satisfied: networkx>=2.2 in /usr/local/lib/python3.10/dist-packages (from scikit-image->rembg) (3.2.1)\n",
            "Requirement already satisfied: imageio>=2.4.1 in /usr/local/lib/python3.10/dist-packages (from scikit-image->rembg) (2.31.6)\n",
            "Requirement already satisfied: tifffile>=2019.7.26 in /usr/local/lib/python3.10/dist-packages (from scikit-image->rembg) (2023.12.9)\n",
            "Requirement already satisfied: PyWavelets>=1.1.1 in /usr/local/lib/python3.10/dist-packages (from scikit-image->rembg) (1.5.0)\n",
            "Requirement already satisfied: llvmlite<0.42,>=0.41.0dev0 in /usr/local/lib/python3.10/dist-packages (from numba!=0.49.0->pymatting->rembg) (0.41.1)\n",
            "Requirement already satisfied: charset-normalizer<4,>=2 in /usr/local/lib/python3.10/dist-packages (from requests>=2.19.0->pooch->rembg) (3.3.2)\n",
            "Requirement already satisfied: idna<4,>=2.5 in /usr/local/lib/python3.10/dist-packages (from requests>=2.19.0->pooch->rembg) (3.6)\n",
            "Requirement already satisfied: urllib3<3,>=1.21.1 in /usr/local/lib/python3.10/dist-packages (from requests>=2.19.0->pooch->rembg) (2.0.7)\n",
            "Requirement already satisfied: certifi>=2017.4.17 in /usr/local/lib/python3.10/dist-packages (from requests>=2.19.0->pooch->rembg) (2023.11.17)\n",
            "Collecting humanfriendly>=9.1 (from coloredlogs->onnxruntime->rembg)\n",
            "  Downloading humanfriendly-10.0-py2.py3-none-any.whl (86 kB)\n",
            "\u001b[2K     \u001b[90m━━━━━━━━━━━━━━━━━━━━━━━━━━━━━━━━━━━━━━━━\u001b[0m \u001b[32m86.8/86.8 kB\u001b[0m \u001b[31m6.2 MB/s\u001b[0m eta \u001b[36m0:00:00\u001b[0m\n",
            "\u001b[?25hRequirement already satisfied: mpmath>=0.19 in /usr/local/lib/python3.10/dist-packages (from sympy->onnxruntime->rembg) (1.3.0)\n",
            "Installing collected packages: humanfriendly, pymatting, coloredlogs, onnxruntime, rembg\n",
            "Successfully installed coloredlogs-15.0.1 humanfriendly-10.0 onnxruntime-1.16.3 pymatting-1.1.12 rembg-2.0.53\n"
          ]
        }
      ]
    },
    {
      "cell_type": "code",
      "source": [
        "# 背景変更パート\n",
        "from PIL import Image\n",
        "from rembg import remove\n",
        "\n",
        "img = Image.open(\"input.jpg\") # 画像読み込み\n",
        "bgless_img = remove(img) # 背景を削除\n",
        "\n",
        "# このif文で透過部分を指定色(白)に置換\n",
        "if bgless_img.mode in ('RGBA', 'LA'):\n",
        "    background = Image.new(bgless_img.mode[:-1], bgless_img.size, \"#FFFFFF\")\n",
        "    background.paste(bgless_img, bgless_img.split()[-1])\n",
        "    bgless_img = background\n",
        "\n",
        "bgless_img.save(\"output.png\") # 背景を削除して白くしただけの画像を一旦保存"
      ],
      "metadata": {
        "id": "JM7g-DNzfCkA"
      },
      "execution_count": 9,
      "outputs": []
    },
    {
      "cell_type": "code",
      "source": [
        "# 256階調から3階調にするパート\n",
        "import numpy as np\n",
        "\n",
        "img = np.array(Image.open('output.png').convert('L')) # 画像の読み込み\n",
        "\n",
        "#量子化レベルを (1/q)　とする\n",
        "q = 3 # 階調数\n",
        "\n",
        "h, w = img.shape[:2] #　画像サイズを取得\n",
        "\n",
        "#全画素を走査し,量子化レベルを変換\n",
        "for x in range(h):\n",
        "    for y in range(w):\n",
        "        for l in range(q):\n",
        "            t1 = l*((255)/q);\n",
        "            t2 = (l+1)*((255)/q);\n",
        "\n",
        "            # ポスタリゼーション処理\n",
        "            if t1 <= img[x,y] and img[x,y] < t2:\n",
        "                img[x,y] = (t1+t2)/2\n",
        "                break\n",
        "\n",
        "Image.fromarray(img).save('3kaicho.png') # 3階調にした画像を一旦保存"
      ],
      "metadata": {
        "id": "izQxtMMwwbTv"
      },
      "execution_count": 10,
      "outputs": []
    },
    {
      "cell_type": "code",
      "source": [
        "# 黒以外を黄色にするパート\n",
        "import cv2\n",
        "\n",
        "img = cv2.imread('3kaicho.png') # 画像の読み込み\n",
        "\n",
        "# 変えたい色\n",
        "target_color1 = (212, 212, 212)\n",
        "target_color2 = (255, 255, 255) # 背景は白にしたので\n",
        "target_color3 = (127, 127, 127)\n",
        "\n",
        "# 変更後の色\n",
        "change_color1 = (212, 212, 0)\n",
        "change_color2 = (238, 238, 0) # カラーピッカーで背景色はこれにした\n",
        "change_color3 = (238, 206, 0)\n",
        "\n",
        "# 色の変更\n",
        "# 画像サイズh，wの取得は前のパートでやっている\n",
        "for i in range(h):\n",
        "    for j in range(w):\n",
        "        b, g, r = img[i, j]\n",
        "        if (b, g, r) == target_color1:\n",
        "            img[i, j] = change_color2\n",
        "        elif (b, g, r) == target_color2:\n",
        "            img[i, j] = change_color2\n",
        "        elif (b, g, r) == target_color3:\n",
        "            img[i, j] = change_color3\n",
        "        else:\n",
        "            img[i, j] = (0, 0, 0) # 髪とか目を想定\n",
        "\n",
        "Image.fromarray(img).save('result.png') # 最終結果画像の保存\n",
        "\n",
        "\n",
        "# colabでやっていて，いちいち保存した画像を確認するのが面倒な人へ\n",
        "# from matplotlib import pylab as plt\n",
        "# plt.imshow(img)\n",
        "# plt.show()"
      ],
      "metadata": {
        "id": "jzwCnP_X1x3a"
      },
      "execution_count": 11,
      "outputs": []
    }
  ]
}