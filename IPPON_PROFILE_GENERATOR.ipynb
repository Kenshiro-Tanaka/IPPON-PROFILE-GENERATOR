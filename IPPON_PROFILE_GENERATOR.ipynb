{
  "nbformat": 4,
  "nbformat_minor": 0,
  "metadata": {
    "colab": {
      "provenance": []
    },
    "kernelspec": {
      "name": "python3",
      "display_name": "Python 3"
    },
    "language_info": {
      "name": "python"
    }
  },
  "cells": [
    {
      "cell_type": "code",
      "source": [
        "pip install rembg"
      ],
      "metadata": {
        "id": "nUyHCWXcez3x"
      },
      "execution_count": null,
      "outputs": []
    },
    {
      "cell_type": "code",
      "source": [
        "# 背景変更パート\n",
        "from PIL import Image\n",
        "from rembg import remove\n",
        "\n",
        "img = Image.open(\"input.jpg\") # 画像読み込み\n",
        "bgless_img = remove(img) # 背景を削除\n",
        "\n",
        "# このif文で透過部分を指定色(白)に置換\n",
        "if bgless_img.mode in ('RGBA', 'LA'):\n",
        "    background = Image.new(bgless_img.mode[:-1], bgless_img.size, \"#FFFFFF\")\n",
        "    background.paste(bgless_img, bgless_img.split()[-1])\n",
        "    bgless_img = background\n",
        "\n",
        "bgless_img.save(\"output.png\") # 背景を削除して白くしただけの画像を一旦保存"
      ],
      "metadata": {
        "id": "JM7g-DNzfCkA"
      },
      "execution_count": null,
      "outputs": []
    },
    {
      "cell_type": "code",
      "source": [
        "# 256階調から3階調にするパート\n",
        "import numpy as np\n",
        "\n",
        "img = np.array(Image.open('output.png').convert('L')) # 画像の読み込み\n",
        "\n",
        "#量子化レベルを (1/q)　とする\n",
        "q = 3 # 階調数\n",
        "\n",
        "h, w = img.shape[:2] #　画像サイズを取得\n",
        "\n",
        "#全画素を走査し,量子化レベルを変換\n",
        "for x in range(h):\n",
        "    for y in range(w):\n",
        "        for l in range(q):\n",
        "            t1 = l*((255)/q);\n",
        "            t2 = (l+1)*((255)/q);\n",
        "\n",
        "            # ポスタリゼーション処理\n",
        "            if t1 <= img[x,y] and img[x,y] < t2:\n",
        "                img[x,y] = (t1+t2)/2\n",
        "                break\n",
        "\n",
        "Image.fromarray(img).save('3kaicho.png') # 3階調にした画像を一旦保存"
      ],
      "metadata": {
        "id": "izQxtMMwwbTv"
      },
      "execution_count": null,
      "outputs": []
    },
    {
      "cell_type": "code",
      "source": [
        "# 黒以外を黄色にするパート\n",
        "import cv2\n",
        "\n",
        "img = cv2.imread('3kaicho.png') # 画像の読み込み\n",
        "\n",
        "# 変えたい色\n",
        "target_color1 = (212, 212, 212)\n",
        "target_color2 = (255, 255, 255) # 背景は白にしたので\n",
        "target_color3 = (127, 127, 127)\n",
        "\n",
        "# 変更後の色\n",
        "change_color1 = (212, 212, 0)\n",
        "change_color2 = (238, 238, 0) # カラーピッカーで背景色はこれにした\n",
        "change_color3 = (238, 206, 0)\n",
        "\n",
        "# 色の変更\n",
        "# 画像サイズh，wの取得は前のパートでやっている\n",
        "for i in range(h):\n",
        "    for j in range(w):\n",
        "        b, g, r = img[i, j]\n",
        "        if (b, g, r) == target_color1:\n",
        "            img[i, j] = change_color2\n",
        "        elif (b, g, r) == target_color2:\n",
        "            img[i, j] = change_color2\n",
        "        elif (b, g, r) == target_color3:\n",
        "            img[i, j] = change_color3\n",
        "        else:\n",
        "            img[i, j] = (0, 0, 0) # 髪とか目を想定\n",
        "\n",
        "Image.fromarray(img).save('result.png') # 最終結果画像の保存\n",
        "\n",
        "\n",
        "# colabでやっていて，いちいち保存した画像を確認するのが面倒な人へ\n",
        "# from matplotlib import pylab as plt\n",
        "# plt.imshow(img)\n",
        "# plt.show()"
      ],
      "metadata": {
        "id": "jzwCnP_X1x3a"
      },
      "execution_count": null,
      "outputs": []
    }
  ]
}